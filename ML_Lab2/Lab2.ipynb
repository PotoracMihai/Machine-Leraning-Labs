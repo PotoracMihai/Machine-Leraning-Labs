{
 "cells": [
  {
   "cell_type": "code",
   "execution_count": 1,
   "id": "62c24820-d75c-497d-a3ff-115e227b1731",
   "metadata": {},
   "outputs": [],
   "source": [
    "import pandas as pd\n",
    "import numpy as np\n",
    "import matplotlib.pyplot as plt\n",
    "import seaborn as sns\n",
    "from sklearn.ensemble import IsolationForest, RandomForestClassifier\n",
    "from sklearn.linear_model import LogisticRegression\n",
    "from sklearn.tree import DecisionTreeClassifier\n",
    "from sklearn.model_selection import train_test_split\n",
    "from sklearn.preprocessing import LabelEncoder, StandardScaler\n",
    "from sklearn.metrics import accuracy_score, classification_report, confusion_matrix"
   ]
  },
  {
   "cell_type": "code",
   "execution_count": 2,
   "id": "df238a93-92b1-425d-bb41-c3004076c1c6",
   "metadata": {},
   "outputs": [],
   "source": [
    "# Load dataset\n",
    "fdf = pd.read_csv('bank-full.csv')"
   ]
  },
  {
   "cell_type": "code",
   "execution_count": 3,
   "id": "f5683686-52d3-4ed2-a709-40f8a36e6e88",
   "metadata": {},
   "outputs": [
    {
     "name": "stdout",
     "output_type": "stream",
     "text": [
      "Primele 5 rânduri din dataset:\n",
      "   age           job  marital  education default  balance housing loan  \\\n",
      "0   58    management  married   tertiary      no     2143     yes   no   \n",
      "1   44    technician   single  secondary      no       29     yes   no   \n",
      "2   33  entrepreneur  married  secondary      no        2     yes  yes   \n",
      "3   47   blue-collar  married    unknown      no     1506     yes   no   \n",
      "4   33       unknown   single    unknown      no        1      no   no   \n",
      "\n",
      "   contact  day month  duration  campaign  pdays  previous poutcome   y  \n",
      "0  unknown    5   may       261         1     -1         0  unknown  no  \n",
      "1  unknown    5   may       151         1     -1         0  unknown  no  \n",
      "2  unknown    5   may        76         1     -1         0  unknown  no  \n",
      "3  unknown    5   may        92         1     -1         0  unknown  no  \n",
      "4  unknown    5   may       198         1     -1         0  unknown  no  \n",
      "\n",
      "Statistici descriptive:\n",
      "                age        balance           day      duration      campaign  \\\n",
      "count  45211.000000   45211.000000  45211.000000  45211.000000  45211.000000   \n",
      "mean      40.936210    1362.272058     15.806419    258.163080      2.763841   \n",
      "std       10.618762    3044.765829      8.322476    257.527812      3.098021   \n",
      "min       18.000000   -8019.000000      1.000000      0.000000      1.000000   \n",
      "25%       33.000000      72.000000      8.000000    103.000000      1.000000   \n",
      "50%       39.000000     448.000000     16.000000    180.000000      2.000000   \n",
      "75%       48.000000    1428.000000     21.000000    319.000000      3.000000   \n",
      "max       95.000000  102127.000000     31.000000   4918.000000     63.000000   \n",
      "\n",
      "              pdays      previous  \n",
      "count  45211.000000  45211.000000  \n",
      "mean      40.197828      0.580323  \n",
      "std      100.128746      2.303441  \n",
      "min       -1.000000      0.000000  \n",
      "25%       -1.000000      0.000000  \n",
      "50%       -1.000000      0.000000  \n",
      "75%       -1.000000      0.000000  \n",
      "max      871.000000    275.000000  \n",
      "\n",
      "Numărul de valori lipsă pe coloană:\n",
      "age          0\n",
      "job          0\n",
      "marital      0\n",
      "education    0\n",
      "default      0\n",
      "balance      0\n",
      "housing      0\n",
      "loan         0\n",
      "contact      0\n",
      "day          0\n",
      "month        0\n",
      "duration     0\n",
      "campaign     0\n",
      "pdays        0\n",
      "previous     0\n",
      "poutcome     0\n",
      "y            0\n",
      "dtype: int64\n"
     ]
    }
   ],
   "source": [
    "# a) Vizualizarea datelor\n",
    "print(\"Primele 5 rânduri din dataset:\")\n",
    "print(fdf.head())\n",
    "\n",
    "# b) Vizualizarea statisticilor descriptive\n",
    "print(\"\\nStatistici descriptive:\")\n",
    "print(fdf.describe())\n",
    "\n",
    "# c) Tratarea valorilor lipsă\n",
    "print(\"\\nNumărul de valori lipsă pe coloană:\")\n",
    "print(fdf.isnull().sum())"
   ]
  },
  {
   "cell_type": "code",
   "execution_count": 4,
   "id": "2b675817-d216-4cc6-bcc6-3e909acfedde",
   "metadata": {},
   "outputs": [],
   "source": [
    "# Encode categorical variables\n",
    "label_encoders = {}\n",
    "for column in fdf.select_dtypes(include=['object']).columns:\n",
    "    if column != 'y':  \n",
    "        le = LabelEncoder()\n",
    "        fdf[column] = le.fit_transform(fdf[column])\n",
    "        label_encoders[column] = le\n",
    "\n",
    "# Encode target variable\n",
    "fdf['y'] = fdf['y'].map({'yes': 1, 'no': 0})"
   ]
  },
  {
   "cell_type": "code",
   "execution_count": 5,
   "id": "88ee3756-0f0b-4780-8c29-45dfa1cea0fe",
   "metadata": {},
   "outputs": [],
   "source": [
    "# Anomaly Detection using Isolation Forest\n",
    "iso_forest = IsolationForest(contamination=0.05, random_state=42)\n",
    "outliers = iso_forest.fit_predict(fdf.drop(columns=['y']))\n",
    "fdf['anomaly'] = outliers\n",
    "\n",
    "# Removing anomalies\n",
    "fdf = fdf[fdf['anomaly'] == 1].drop(columns=['anomaly'])"
   ]
  },
  {
   "cell_type": "code",
   "execution_count": 6,
   "id": "f8b35138-7df9-4556-94b6-d6f538821ffe",
   "metadata": {},
   "outputs": [],
   "source": [
    "# Split data into features and target\n",
    "X = fdf.drop(columns=['y'])\n",
    "y = fdf['y']\n",
    "\n",
    "# Standardizing the numerical features\n",
    "scaler = StandardScaler()\n",
    "X = scaler.fit_transform(X)\n",
    "\n",
    "# Train-test split\n",
    "X_train, X_test, y_train, y_test = train_test_split(X, y, test_size=0.2, random_state=42)"
   ]
  },
  {
   "cell_type": "code",
   "execution_count": 11,
   "id": "248f3505-c0db-4205-8d8c-e03c6def54f1",
   "metadata": {},
   "outputs": [
    {
     "name": "stdout",
     "output_type": "stream",
     "text": [
      "\n",
      "Regresie Logistica - Acurracy: 0.8955762514551805\n",
      "              precision    recall  f1-score   support\n",
      "\n",
      "           0       0.91      0.98      0.94      7627\n",
      "           1       0.60      0.21      0.31       963\n",
      "\n",
      "    accuracy                           0.90      8590\n",
      "   macro avg       0.75      0.60      0.63      8590\n",
      "weighted avg       0.87      0.90      0.87      8590\n",
      "\n"
     ]
    }
   ],
   "source": [
    "# a) Modelul de regresie logistică\n",
    "log_model = LogisticRegression()\n",
    "log_model.fit(X_train, y_train)\n",
    "y_pred_log = log_model.predict(X_test)\n",
    "log_accuracy = accuracy_score(y_test, y_pred_log)\n",
    "print(\"\\nRegresie Logistica - Acurracy:\", log_accuracy)\n",
    "print(classification_report(y_test, y_pred_log))"
   ]
  },
  {
   "cell_type": "code",
   "execution_count": 12,
   "id": "3f3142ab-5c6d-48c9-ac44-9b618153da32",
   "metadata": {},
   "outputs": [
    {
     "name": "stdout",
     "output_type": "stream",
     "text": [
      "\n",
      "Arbore Decizional - Acurracy: 0.8782305005820722\n",
      "              precision    recall  f1-score   support\n",
      "\n",
      "           0       0.93      0.93      0.93      7627\n",
      "           1       0.46      0.47      0.46       963\n",
      "\n",
      "    accuracy                           0.88      8590\n",
      "   macro avg       0.70      0.70      0.70      8590\n",
      "weighted avg       0.88      0.88      0.88      8590\n",
      "\n"
     ]
    }
   ],
   "source": [
    "# b) Modelul arborelui decizional\n",
    "dt_model = DecisionTreeClassifier()\n",
    "dt_model.fit(X_train, y_train)\n",
    "y_pred_dt = dt_model.predict(X_test)\n",
    "dt_accuracy = accuracy_score(y_test, y_pred_dt)\n",
    "print(\"\\nArbore Decizional - Acurracy:\", dt_accuracy)\n",
    "print(classification_report(y_test, y_pred_dt))"
   ]
  },
  {
   "cell_type": "code",
   "execution_count": 14,
   "id": "be286a93-b1e9-4fd6-b5d8-5471b2934016",
   "metadata": {},
   "outputs": [
    {
     "name": "stdout",
     "output_type": "stream",
     "text": [
      "\n",
      "Random Forest - Acurracy: 0.9073341094295693\n",
      "              precision    recall  f1-score   support\n",
      "\n",
      "           0       0.93      0.97      0.95      7627\n",
      "           1       0.64      0.40      0.49       963\n",
      "\n",
      "    accuracy                           0.91      8590\n",
      "   macro avg       0.78      0.69      0.72      8590\n",
      "weighted avg       0.90      0.91      0.90      8590\n",
      "\n"
     ]
    }
   ],
   "source": [
    "# c) Modelul Random Forest\n",
    "rf_model = RandomForestClassifier(n_estimators=100, random_state=42)\n",
    "rf_model.fit(X_train, y_train)\n",
    "y_pred_rf = rf_model.predict(X_test)\n",
    "rf_accuracy = accuracy_score(y_test, y_pred_rf)\n",
    "print(\"\\nRandom Forest - Acurracy:\", rf_accuracy)\n",
    "print(classification_report(y_test, y_pred_rf))"
   ]
  },
  {
   "cell_type": "code",
   "execution_count": 15,
   "id": "9c7a7f4d-c796-4880-aa16-2a9525c96e1a",
   "metadata": {},
   "outputs": [
    {
     "name": "stdout",
     "output_type": "stream",
     "text": [
      "\n",
      "Compararea performanțelor modelelor:\n",
      "                Model  Acuratețe\n",
      "0  Regresie Logistică   0.895576\n",
      "1   Arbore Decizional   0.878231\n",
      "2       Random Forest   0.907334\n"
     ]
    },
    {
     "data": {
      "image/png": "[encoded data removed]",
      "text/plain": [
       "<Figure size 800x500 with 1 Axes>"
      ]
     },
     "metadata": {},
     "output_type": "display_data"
    }
   ],
   "source": [
    "# Compararea performanțelor modelelor\n",
    "df_comparison = pd.DataFrame({\n",
    "    'Model': ['Regresie Logistică', 'Arbore Decizional', 'Random Forest'],\n",
    "    'Acuratețe': [log_accuracy, dt_accuracy, rf_accuracy]\n",
    "})\n",
    "\n",
    "print(\"\\nCompararea performanțelor modelelor:\")\n",
    "print(df_comparison)\n",
    "\n",
    "# Vizualizare grafică alternativă utilizând un pie chart\n",
    "plt.figure(figsize=(8, 5))\n",
    "plt.pie(df_comparison['Acuratețe'], labels=df_comparison['Model'], autopct='%1.1f%%', startangle=140, colors=['blue', 'green', 'red'])\n",
    "plt.title('Compararea performanțelor modelelor')\n",
    "plt.show()"
   ]
  },
  {
   "cell_type": "code",
   "execution_count": null,
   "id": "e62ef050-c175-47aa-915b-87ccdbfb0a03",
   "metadata": {},
   "outputs": [],
   "source": [
    "# Streamlit UI\n",
    "st.title(\"Compararea performanțelor modelelor\")\n",
    "st.write(\"Acuratețea fiecărui model:\")\n",
    "df_comparison = pd.DataFrame(list(results.items()), columns=['Model', 'Acuratețe'])\n",
    "st.dataframe(df_comparison)\n",
    "\n",
    "# Plot results\n",
    "st.bar_chart(df_comparison.set_index('Model'))"
   ]
  }
 ],
 "metadata": {
  "kernelspec": {
   "display_name": "Python 3 (ipykernel)",
   "language": "python",
   "name": "python3"
  },
  "language_info": {
   "codemirror_mode": {
    "name": "ipython",
    "version": 3
   },
   "file_extension": ".py",
   "mimetype": "text/x-python",
   "name": "python",
   "nbconvert_exporter": "python",
   "pygments_lexer": "ipython3",
   "version": "3.11.7"
  }
 },
 "nbformat": 4,
 "nbformat_minor": 5
}
